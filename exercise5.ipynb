{
  "cells": [
    {
      "cell_type": "markdown",
      "metadata": {
        "id": "view-in-github",
        "colab_type": "text"
      },
      "source": [
        "<a href=\"https://colab.research.google.com/github/BeaManing/CCDATRCL_ASSIGNMENT_COM222/blob/main/exercise5.ipynb\" target=\"_parent\"><img src=\"https://colab.research.google.com/assets/colab-badge.svg\" alt=\"Open In Colab\"/></a>"
      ]
    },
    {
      "cell_type": "markdown",
      "metadata": {
        "id": "eCC2bk4Mlfov"
      },
      "source": [
        "# Exercise 5"
      ]
    },
    {
      "cell_type": "markdown",
      "metadata": {
        "id": "5bm52ndBlfo8"
      },
      "source": [
        "#### 1. Create a dictionary of your 10 favorite songs."
      ]
    },
    {
      "cell_type": "markdown",
      "metadata": {
        "id": "PBXYO8_Olfo9"
      },
      "source": [
        "Example:\n",
        "\n",
        "|KEY|VALUE|\n",
        "|---|---|\n",
        "|001|My Love|\n",
        "|002|Like a rose|"
      ]
    },
    {
      "cell_type": "code",
      "execution_count": 49,
      "metadata": {
        "id": "3_F14ldKlfo_",
        "colab": {
          "base_uri": "https://localhost:8080/"
        },
        "outputId": "dffcc01b-4efd-4450-fc2d-a93fc3ee4f8d"
      },
      "outputs": [
        {
          "output_type": "stream",
          "name": "stdout",
          "text": [
            "{'001': 'Anaheim', '002': '711', '003': 'Who Hurt You?', '004': 'Godspeed', '005': 'Dear John', '006': 'Backburner', '007': \"Other's Melodies\", '008': 'Back to December', '009': 'Where Do Broken Hearts Go', '010': 'Oceans & Engines'}\n"
          ]
        }
      ],
      "source": [
        "favorite_songs = {\n",
        "    \"001\": \"Anaheim\",\n",
        "    \"002\": \"711\",\n",
        "    \"003\": \"Who Hurt You?\",\n",
        "    \"004\": \"Godspeed\",\n",
        "    \"005\": \"Dear John\",\n",
        "    \"006\": \"Backburner\",\n",
        "    \"007\": \"Other's Melodies\",\n",
        "    \"008\": \"Back to December\",\n",
        "    \"009\": \"Where Do Broken Hearts Go\",\n",
        "    \"010\": \"Oceans & Engines\"\n",
        "}\n",
        "\n",
        "print(favorite_songs)"
      ]
    },
    {
      "cell_type": "markdown",
      "metadata": {
        "id": "NcPIqf-SlfpD"
      },
      "source": [
        "#### 2. Loop through the dictionary by its **key** and **value**"
      ]
    },
    {
      "cell_type": "code",
      "execution_count": 50,
      "metadata": {
        "id": "dPP9diAmlfpE",
        "colab": {
          "base_uri": "https://localhost:8080/"
        },
        "outputId": "6621fff5-88e0-4222-d187-d65724b5eb0f"
      },
      "outputs": [
        {
          "output_type": "stream",
          "name": "stdout",
          "text": [
            "001 Anaheim\n",
            "002 711\n",
            "003 Who Hurt You?\n",
            "004 Godspeed\n",
            "005 Dear John\n",
            "006 Backburner\n",
            "007 Other's Melodies\n",
            "008 Back to December\n",
            "009 Where Do Broken Hearts Go\n",
            "010 Oceans & Engines\n"
          ]
        }
      ],
      "source": [
        "for key, value in favorite_songs.items():\n",
        "    print(key,value)"
      ]
    },
    {
      "cell_type": "markdown",
      "metadata": {
        "id": "3TvTz442lfpF"
      },
      "source": [
        "#### 3. Add one additional song"
      ]
    },
    {
      "cell_type": "code",
      "execution_count": 51,
      "metadata": {
        "id": "QbUA4DQ7lfpG",
        "colab": {
          "base_uri": "https://localhost:8080/"
        },
        "outputId": "5091039a-73e0-4896-c918-0f6d7b8beb6a"
      },
      "outputs": [
        {
          "output_type": "stream",
          "name": "stdout",
          "text": [
            "{'001': 'Anaheim', '002': '711', '003': 'Who Hurt You?', '004': 'Godspeed', '005': 'Dear John', '006': 'Backburner', '007': \"Other's Melodies\", '008': 'Back to December', '009': 'Where Do Broken Hearts Go', '010': 'Oceans & Engines', '011': 'Janice'}\n"
          ]
        }
      ],
      "source": [
        "favorite_songs[\"011\"] = \"Janice\"\n",
        "print(favorite_songs)"
      ]
    },
    {
      "cell_type": "markdown",
      "metadata": {
        "id": "EDXkxJ-QlfpH"
      },
      "source": [
        "#### 4. Remove one song"
      ]
    },
    {
      "cell_type": "code",
      "execution_count": 52,
      "metadata": {
        "id": "hNH4ADfHlfpI",
        "colab": {
          "base_uri": "https://localhost:8080/"
        },
        "outputId": "ba06e9f7-d3bc-4551-fed8-ea78132aa627"
      },
      "outputs": [
        {
          "output_type": "execute_result",
          "data": {
            "text/plain": [
              "{'001': 'Anaheim',\n",
              " '002': '711',\n",
              " '003': 'Who Hurt You?',\n",
              " '004': 'Godspeed',\n",
              " '005': 'Dear John',\n",
              " '006': 'Backburner',\n",
              " '007': \"Other's Melodies\",\n",
              " '008': 'Back to December',\n",
              " '010': 'Oceans & Engines',\n",
              " '011': 'Janice'}"
            ]
          },
          "metadata": {},
          "execution_count": 52
        }
      ],
      "source": [
        "favorite_songs.pop(\"009\")\n",
        "favorite_songs"
      ]
    },
    {
      "cell_type": "markdown",
      "metadata": {
        "id": "QrjANcXRlfpJ"
      },
      "source": [
        "#### 5. Create a nested dictionary of your 10 favorite songs with 5 genres. Display all of the items of the nested dictionary\n",
        "\n",
        "- Each nested dictionary's key should be the genre of the song\n",
        "- Put each song in their respective genre"
      ]
    },
    {
      "cell_type": "markdown",
      "metadata": {
        "id": "Pyt7jnTqlfpJ"
      },
      "source": [
        "Example:\n",
        "\n",
        "\n",
        "|KEY|VALUE|\n",
        "|---|---|\n",
        "|Pop|{001, Baby}|\n",
        "|Rock|{001, Enter Sandman}|"
      ]
    },
    {
      "cell_type": "code",
      "execution_count": 53,
      "metadata": {
        "id": "wmqmOGm0lfpK",
        "colab": {
          "base_uri": "https://localhost:8080/"
        },
        "outputId": "5b009a64-12c7-44bb-da8b-cd3f55d2853d"
      },
      "outputs": [
        {
          "output_type": "execute_result",
          "data": {
            "text/plain": [
              "{'R&B': {'001': 'Anaheim',\n",
              "  '003': 'Who Hurt You?',\n",
              "  '004': 'Godspeed',\n",
              "  '006': 'Backburner'},\n",
              " 'Alternative/Indie': {'002': '711', '010': 'Oceans & Engines'},\n",
              " 'Pop': {'005': 'Dear John',\n",
              "  '007': \"Other's Melodies\",\n",
              "  '008': 'Back to December',\n",
              "  '009': 'Where Do Broken Hearts Go'}}"
            ]
          },
          "metadata": {},
          "execution_count": 53
        }
      ],
      "source": [
        "favorite_songs = {\n",
        "    \"R&B\": {\n",
        "        \"001\": \"Anaheim\",\n",
        "        \"003\": \"Who Hurt You?\",\n",
        "        \"004\": \"Godspeed\",\n",
        "        \"006\": \"Backburner\"\n",
        "    },\n",
        "    \"Alternative/Indie\": {\n",
        "        \"002\": \"711\",\n",
        "        \"010\": \"Oceans & Engines\"\n",
        "    },\n",
        "    \"Pop\": {\n",
        "        \"005\": \"Dear John\",\n",
        "        \"007\": \"Other's Melodies\",\n",
        "        \"008\": \"Back to December\",\n",
        "        \"009\": \"Where Do Broken Hearts Go\"\n",
        "    }\n",
        "}\n",
        "\n",
        "favorite_songs"
      ]
    },
    {
      "cell_type": "markdown",
      "metadata": {
        "id": "P9ANphL6lfpL"
      },
      "source": [
        "#### 6. Print the first song of the first genre"
      ]
    },
    {
      "cell_type": "code",
      "execution_count": 54,
      "metadata": {
        "id": "Twz-tPJAlfpL",
        "colab": {
          "base_uri": "https://localhost:8080/"
        },
        "outputId": "77ae9290-3ef2-4f12-f6bf-b40dc68c1222"
      },
      "outputs": [
        {
          "output_type": "stream",
          "name": "stdout",
          "text": [
            "Anaheim\n"
          ]
        }
      ],
      "source": [
        "print(favorite_songs[\"R&B\"][\"001\"])"
      ]
    },
    {
      "cell_type": "markdown",
      "metadata": {
        "id": "mE7pHTk-lfpL"
      },
      "source": [
        "#### 7. Print the first song of the last genre"
      ]
    },
    {
      "cell_type": "code",
      "execution_count": 55,
      "metadata": {
        "id": "8_zm23D2lfpM",
        "colab": {
          "base_uri": "https://localhost:8080/"
        },
        "outputId": "47ac7437-f3ff-4fb8-d518-371a51cc4b36"
      },
      "outputs": [
        {
          "output_type": "stream",
          "name": "stdout",
          "text": [
            "Where Do Broken Hearts Go\n"
          ]
        }
      ],
      "source": [
        "print(favorite_songs[\"Pop\"][\"009\"])"
      ]
    }
  ],
  "metadata": {
    "kernelspec": {
      "display_name": "Python 3",
      "language": "python",
      "name": "python3"
    },
    "language_info": {
      "codemirror_mode": {
        "name": "ipython",
        "version": 3
      },
      "file_extension": ".py",
      "mimetype": "text/x-python",
      "name": "python",
      "nbconvert_exporter": "python",
      "pygments_lexer": "ipython3",
      "version": "3.11.4"
    },
    "orig_nbformat": 4,
    "colab": {
      "provenance": [],
      "include_colab_link": true
    }
  },
  "nbformat": 4,
  "nbformat_minor": 0
}