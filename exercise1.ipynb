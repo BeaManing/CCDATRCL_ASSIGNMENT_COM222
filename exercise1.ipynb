{
  "cells": [
    {
      "cell_type": "markdown",
      "metadata": {
        "id": "view-in-github",
        "colab_type": "text"
      },
      "source": [
        "<a href=\"https://colab.research.google.com/github/BeaManing/CCDATRCL_ASSIGNMENT_COM222/blob/main/exercise1.ipynb\" target=\"_parent\"><img src=\"https://colab.research.google.com/assets/colab-badge.svg\" alt=\"Open In Colab\"/></a>"
      ]
    },
    {
      "cell_type": "markdown",
      "metadata": {
        "id": "h2vFiYhGzZOg"
      },
      "source": [
        "# Exercise 1"
      ]
    },
    {
      "cell_type": "markdown",
      "source": [
        "## Class Initialization"
      ],
      "metadata": {
        "id": "sRm6kPQozcaU"
      }
    },
    {
      "cell_type": "code",
      "execution_count": 5,
      "metadata": {
        "id": "b1u4Dt9mzZOi"
      },
      "outputs": [],
      "source": [
        "class Node:\n",
        "    def __init__(self, data):\n",
        "        self.data = data\n",
        "        self.next = None\n",
        "        self.prev = None"
      ]
    },
    {
      "cell_type": "code",
      "execution_count": 6,
      "metadata": {
        "id": "tigvHSaHzZOj"
      },
      "outputs": [],
      "source": [
        "class LinkedList:\n",
        "\n",
        "    def __init__(self):\n",
        "        self.head = None\n",
        "\n",
        "    def traverse(self, node):\n",
        "        while node:\n",
        "            print(node.data, end=\" -> \")\n",
        "            node = node.next"
      ]
    },
    {
      "cell_type": "code",
      "execution_count": 7,
      "metadata": {
        "id": "LIkQBioVzZOk"
      },
      "outputs": [],
      "source": [
        "class DoublyLinkedList:\n",
        "\n",
        "    def __init__(self):\n",
        "        self.head = None\n",
        "\n",
        "    def traverse(self, node):\n",
        "        while node:\n",
        "            print(node.data, end=\" -> \")\n",
        "            node = node.next"
      ]
    },
    {
      "cell_type": "code",
      "execution_count": 8,
      "metadata": {
        "id": "zlxNT5EozZOl"
      },
      "outputs": [],
      "source": [
        "class CircularLinkedList:\n",
        "\n",
        "    def __init__(self):\n",
        "        self.head = None\n",
        "\n",
        "    def traverse(self, node):\n",
        "\n",
        "        head = node\n",
        "\n",
        "        while node:\n",
        "            print(node.data, end=\" -> \")\n",
        "            node = node.next\n",
        "\n",
        "            # Break to prevent infinite loop\n",
        "            if node == head:\n",
        "                break"
      ]
    },
    {
      "cell_type": "markdown",
      "metadata": {
        "id": "O68-Q1-bzZOl"
      },
      "source": [
        "#### 1. Create a Singly Linked list\n",
        "\n",
        "- Each node should contain your name and your seatmates in your row\n",
        "- Create at least 5 nodes\n",
        "- Traverse all nodes"
      ]
    },
    {
      "cell_type": "code",
      "execution_count": 9,
      "metadata": {
        "id": "pTcx_OuPzZOl"
      },
      "outputs": [],
      "source": [
        "linked_list = LinkedList()"
      ]
    },
    {
      "cell_type": "code",
      "execution_count": 10,
      "metadata": {
        "id": "7b9Hky5wr3rL"
      },
      "outputs": [],
      "source": [
        "linked_list.head = Node (\"Maning\")\n",
        "node_b = Node(\"Mary\")\n",
        "node_c = Node(\"Allana\")\n",
        "node_d = Node(\"Chleo\")\n",
        "node_e = Node(\"Mykie\")"
      ]
    },
    {
      "cell_type": "code",
      "execution_count": 11,
      "metadata": {
        "id": "Pw9mPYNTr7eb"
      },
      "outputs": [],
      "source": [
        "linked_list.head.next = node_b\n",
        "node_b.next = node_c\n",
        "node_c.next = node_d\n",
        "node_d.next = node_e"
      ]
    },
    {
      "cell_type": "code",
      "execution_count": 12,
      "metadata": {
        "colab": {
          "base_uri": "https://localhost:8080/"
        },
        "id": "ShYRp3WlsAaK",
        "outputId": "36b6759d-2fc0-42bc-9d1e-1bf9c3533a18"
      },
      "outputs": [
        {
          "output_type": "stream",
          "name": "stdout",
          "text": [
            "Maning -> Mary -> Allana -> Chleo -> Mykie -> "
          ]
        }
      ],
      "source": [
        "linked_list.traverse(linked_list.head)"
      ]
    },
    {
      "cell_type": "markdown",
      "metadata": {
        "id": "IFgwbdw_zZOm"
      },
      "source": [
        "#### 2. Create a Doubly Linked list\n",
        "\n",
        "- Each node should contain your name and your seatmates in your row\n",
        "- Create at least 5 nodes\n",
        "- Traverse all nodes"
      ]
    },
    {
      "cell_type": "code",
      "execution_count": 13,
      "metadata": {
        "id": "8kQD2A_QzZOm"
      },
      "outputs": [],
      "source": [
        "doubly_linked_list = DoublyLinkedList()"
      ]
    },
    {
      "cell_type": "code",
      "execution_count": 14,
      "metadata": {
        "id": "XLuT0ZJCsue-"
      },
      "outputs": [],
      "source": [
        "doubly_linked_list.head = Node (\"Maning\")\n",
        "node_db = Node(\"Mary\")\n",
        "node_dc = Node(\"Allana\")\n",
        "node_dd = Node(\"Chleo\")\n",
        "node_de = Node(\"Mykie\")"
      ]
    },
    {
      "cell_type": "code",
      "execution_count": 15,
      "metadata": {
        "id": "ez8ZR9kRsu9c"
      },
      "outputs": [],
      "source": [
        "doubly_linked_list.head.prev = None\n",
        "doubly_linked_list.head.next = node_db\n",
        "\n",
        "node_db.prev = doubly_linked_list.head\n",
        "node_db.next = node_dc\n",
        "\n",
        "node_dc.prev = node_db\n",
        "node_dc.next = node_dd\n",
        "\n",
        "node_dd.prev = node_dc\n",
        "node_dd.next = node_de\n",
        "\n",
        "node_de.prev = node_dd\n",
        "node_dd.next = None"
      ]
    },
    {
      "cell_type": "code",
      "execution_count": 16,
      "metadata": {
        "colab": {
          "base_uri": "https://localhost:8080/"
        },
        "id": "MDNfqMfKsvwS",
        "outputId": "8ed59b69-f8b2-44dc-e6e1-4a8b3b692284"
      },
      "outputs": [
        {
          "output_type": "stream",
          "name": "stdout",
          "text": [
            "Maning -> Mary -> Allana -> Chleo -> "
          ]
        }
      ],
      "source": [
        "doubly_linked_list.traverse(doubly_linked_list.head)"
      ]
    },
    {
      "cell_type": "markdown",
      "metadata": {
        "id": "rtApbsCjzZOm"
      },
      "source": [
        "#### 3. Create a Circular Linked list\n",
        "\n",
        "- Each node should contain your name and your seatmates in your row\n",
        "- Create at least 5 nodes\n",
        "- Traverse all nodes"
      ]
    },
    {
      "cell_type": "code",
      "execution_count": 17,
      "metadata": {
        "id": "Gp1Oiq0jzZOn"
      },
      "outputs": [],
      "source": [
        "circular_linked_list = CircularLinkedList()"
      ]
    },
    {
      "cell_type": "code",
      "execution_count": 18,
      "metadata": {
        "id": "oxtVUBils-Iy"
      },
      "outputs": [],
      "source": [
        "circular_linked_list.head = Node (\"Maning\")\n",
        "node_cb = Node(\"Mary\")\n",
        "node_cc = Node(\"Allana\")\n",
        "node_cd = Node(\"Chleo\")\n",
        "node_ce = Node(\"Mykie\")"
      ]
    },
    {
      "cell_type": "code",
      "execution_count": 19,
      "metadata": {
        "id": "2jRTDd9Cs-Uy"
      },
      "outputs": [],
      "source": [
        "circular_linked_list.head.next = node_cb\n",
        "node_cb.next = node_cc\n",
        "node_cc.next =node_cd\n",
        "node_cd.next = node_ce\n",
        "node_ce.next = circular_linked_list.head"
      ]
    },
    {
      "cell_type": "code",
      "execution_count": 20,
      "metadata": {
        "colab": {
          "base_uri": "https://localhost:8080/"
        },
        "id": "L_OZEE8ps-gy",
        "outputId": "e228bdde-da98-4c10-a477-0deb6bb966ba"
      },
      "outputs": [
        {
          "output_type": "stream",
          "name": "stdout",
          "text": [
            "Maning -> Mary -> Allana -> Chleo -> Mykie -> "
          ]
        }
      ],
      "source": [
        "circular_linked_list.traverse(circular_linked_list.head)"
      ]
    }
  ],
  "metadata": {
    "kernelspec": {
      "display_name": "Python 3",
      "language": "python",
      "name": "python3"
    },
    "language_info": {
      "name": "python",
      "version": "3.11.4"
    },
    "orig_nbformat": 4,
    "colab": {
      "provenance": [],
      "include_colab_link": true
    }
  },
  "nbformat": 4,
  "nbformat_minor": 0
}