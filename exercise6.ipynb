{
  "cells": [
    {
      "cell_type": "markdown",
      "metadata": {
        "id": "view-in-github",
        "colab_type": "text"
      },
      "source": [
        "<a href=\"https://colab.research.google.com/github/BeaManing/CCDATRCL_ASSIGNMENT_COM222/blob/main/exercise6.ipynb\" target=\"_parent\"><img src=\"https://colab.research.google.com/assets/colab-badge.svg\" alt=\"Open In Colab\"/></a>"
      ]
    },
    {
      "cell_type": "markdown",
      "metadata": {
        "id": "v0RvvXfQuEkr"
      },
      "source": [
        "# Exercise 6"
      ]
    },
    {
      "cell_type": "markdown",
      "metadata": {
        "id": "qvuRVrqFuEkv"
      },
      "source": [
        "#### Pre-defined code"
      ]
    },
    {
      "cell_type": "code",
      "execution_count": 37,
      "metadata": {
        "id": "rNjaQPg8uEkw"
      },
      "outputs": [],
      "source": [
        "class Node:\n",
        "    def __init__(self, item):\n",
        "        self.left = None\n",
        "        self.right = None\n",
        "        self.val = item"
      ]
    },
    {
      "cell_type": "code",
      "execution_count": 38,
      "metadata": {
        "id": "d2sYmBZJuEkx"
      },
      "outputs": [],
      "source": [
        "def inorder(root):\n",
        "\n",
        "    if root:\n",
        "        # Traverse left\n",
        "        inorder(root.left)\n",
        "        # Traverse root\n",
        "        print(str(root.val) + \"->\", end='')\n",
        "        # Traverse right\n",
        "        inorder(root.right)\n",
        "\n",
        "def postorder(root):\n",
        "\n",
        "    if root:\n",
        "        # Traverse left\n",
        "        postorder(root.left)\n",
        "        # Traverse right\n",
        "        postorder(root.right)\n",
        "        # Traverse root\n",
        "        print(str(root.val) + \"->\", end='')\n",
        "\n",
        "def preorder(root):\n",
        "\n",
        "    if root:\n",
        "        # Traverse root\n",
        "        print(str(root.val) + \"->\", end='')\n",
        "        # Traverse left\n",
        "        preorder(root.left)\n",
        "        # Traverse right\n",
        "        preorder(root.right)"
      ]
    },
    {
      "cell_type": "markdown",
      "metadata": {
        "id": "6gk72WqCuEkx"
      },
      "source": [
        "#### 1. Construct Create your own company org chart and put yourself as CEO.\n",
        "\n",
        "Using a Tree data structure,\n",
        "\n",
        "- Assign yourself as CEO\n",
        "\n",
        "- Assign any of your classmate as HR Director\n",
        "- Assign any of your classmate as Sales Director\n",
        "\n",
        "- Assign any of your classmate as trainee. His/her boss is the HR Director\n",
        "- Assign any of your classmate as a staff and trainee. Their boss is the Sales Director\n"
      ]
    },
    {
      "cell_type": "markdown",
      "metadata": {
        "id": "XkL4y86HuEky"
      },
      "source": [
        "<img src=\"https://thumbs.dreamstime.com/z/cartoon-organization-chart-some-company-93778925.jpg\"/>"
      ]
    },
    {
      "cell_type": "code",
      "execution_count": 39,
      "metadata": {
        "id": "9CQT6VKguEky",
        "colab": {
          "base_uri": "https://localhost:8080/"
        },
        "outputId": "621a7757-2ad6-4e0b-b7df-d39bdc9c0dc2"
      },
      "outputs": [
        {
          "output_type": "stream",
          "name": "stdout",
          "text": [
            "Preorder Traversal:\n",
            "CEO: Bea Dela Cruz->HR Director: Mary Pascual->Trainee: Margarete Paat->Sales Director: Allana Pascual->Staff & Trainee: Chleo Montano->"
          ]
        }
      ],
      "source": [
        "ceo = Node(\"CEO: Bea Dela Cruz\")\n",
        "\n",
        "hr_director = Node(\"HR Director: Mary Pascual\")\n",
        "ceo.left = hr_director\n",
        "\n",
        "sales_director = Node(\"Sales Director: Allana Pascual\")\n",
        "ceo.right = sales_director\n",
        "\n",
        "trainee_hr = Node(\"Trainee: Margarete Paat\")\n",
        "hr_director.left = trainee_hr\n",
        "\n",
        "staff_and_trainee_sales = Node(\"Staff & Trainee: Chleo Montano\")\n",
        "sales_director.left = staff_and_trainee_sales\n",
        "\n",
        "print(\"Preorder Traversal:\")\n",
        "preorder(ceo)"
      ]
    },
    {
      "cell_type": "markdown",
      "metadata": {
        "id": "7PTn15DeuEky"
      },
      "source": [
        "#### 2. Traverse the tree in in-order traversal"
      ]
    },
    {
      "cell_type": "code",
      "execution_count": 40,
      "metadata": {
        "id": "HB4y9T4suEkz",
        "colab": {
          "base_uri": "https://localhost:8080/"
        },
        "outputId": "1cd0ee57-f889-4e88-f199-f5ef5866460e"
      },
      "outputs": [
        {
          "output_type": "stream",
          "name": "stdout",
          "text": [
            "Inorder Traversal:\n",
            "Trainee: Margarete Paat->HR Director: Mary Pascual->CEO: Bea Dela Cruz->Staff & Trainee: Chleo Montano->Sales Director: Allana Pascual->"
          ]
        }
      ],
      "source": [
        "print(\"Inorder Traversal:\")\n",
        "inorder(ceo)"
      ]
    },
    {
      "cell_type": "markdown",
      "metadata": {
        "id": "HJTDo1pSuEkz"
      },
      "source": [
        "#### 3. Traverse the tree in pre-order traversal"
      ]
    },
    {
      "cell_type": "code",
      "execution_count": 41,
      "metadata": {
        "id": "6AVo0HkDuEkz",
        "colab": {
          "base_uri": "https://localhost:8080/"
        },
        "outputId": "2321cacf-85ab-472a-e7da-b50265de606f"
      },
      "outputs": [
        {
          "output_type": "stream",
          "name": "stdout",
          "text": [
            "Preorder Traversal:\n",
            "CEO: Bea Dela Cruz->HR Director: Mary Pascual->Trainee: Margarete Paat->Sales Director: Allana Pascual->Staff & Trainee: Chleo Montano->"
          ]
        }
      ],
      "source": [
        "print(\"Preorder Traversal:\")\n",
        "preorder(ceo)"
      ]
    },
    {
      "cell_type": "markdown",
      "metadata": {
        "id": "xIbKQZ0luEkz"
      },
      "source": [
        "#### 4. Traverse the tree in post-order traversal"
      ]
    },
    {
      "cell_type": "code",
      "execution_count": 42,
      "metadata": {
        "id": "IrMmE1GhuEkz",
        "colab": {
          "base_uri": "https://localhost:8080/"
        },
        "outputId": "6bc2db04-fd1a-4767-ab4a-7f783872c642"
      },
      "outputs": [
        {
          "output_type": "stream",
          "name": "stdout",
          "text": [
            "Post-order Traversal:\n",
            "Trainee: Margarete Paat->HR Director: Mary Pascual->Staff & Trainee: Chleo Montano->Sales Director: Allana Pascual->CEO: Bea Dela Cruz->"
          ]
        }
      ],
      "source": [
        "print(\"Post-order Traversal:\")\n",
        "postorder(ceo)"
      ]
    }
  ],
  "metadata": {
    "kernelspec": {
      "display_name": "Python 3",
      "language": "python",
      "name": "python3"
    },
    "language_info": {
      "codemirror_mode": {
        "name": "ipython",
        "version": 3
      },
      "file_extension": ".py",
      "mimetype": "text/x-python",
      "name": "python",
      "nbconvert_exporter": "python",
      "pygments_lexer": "ipython3",
      "version": "3.11.4"
    },
    "orig_nbformat": 4,
    "colab": {
      "provenance": [],
      "include_colab_link": true
    }
  },
  "nbformat": 4,
  "nbformat_minor": 0
}